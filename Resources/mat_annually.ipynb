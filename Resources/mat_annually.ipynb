{
 "cells": [
  {
   "cell_type": "markdown",
   "metadata": {},
   "source": [
    "***\n",
    "# ETL Project: Extract, Transform, Load\n",
    "***\n",
    "## Step 1: Extract\n",
    "> Data sources are from csv files, after deep exploration of the data we need for this project we will start retrieval process by reading in the dataset. \n",
    "> Dataset we are using in this part is to potentially answer the following question:\n",
    "> * What is the prevalence of overdose deaths across the US from 1999 to 2014?\n",
    "> * Data source: https://data.world/chhs/8329a339-ab77-4d05-ab7a-405d0ae5765c"
   ]
  }
 ],
 "metadata": {
  "kernelspec": {
   "display_name": "Python [conda env:PythonData] *",
   "language": "python",
   "name": "conda-env-PythonData-py"
  },
  "language_info": {
   "codemirror_mode": {
    "name": "ipython",
    "version": 3
   },
   "file_extension": ".py",
   "mimetype": "text/x-python",
   "name": "python",
   "nbconvert_exporter": "python",
   "pygments_lexer": "ipython3",
   "version": "3.6.12"
  }
 },
 "nbformat": 4,
 "nbformat_minor": 4
}
