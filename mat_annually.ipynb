{
 "cells": [
  {
   "cell_type": "markdown",
   "metadata": {},
   "source": [
    "***\n",
    "# ETL Project: Extract, Transform, Load\n",
    "***\n",
    "## Step 1: Extract\n",
    "> Data sources are from csv files, after deep exploration of the data we need for this project we will start retrieval process by reading in the dataset. \n",
    "> Dataset we are using in this part is to potentially answer the following question:\n",
    "> * Using California as a model, is there a relationship between enrollments in medically-assisted facilities and rates of overdose deaths?\n",
    "> * Data source: https://data.world/chhs/8329a339-ab77-4d05-ab7a-405d0ae5765c"
   ]
  },
  {
   "cell_type": "markdown",
   "metadata": {},
   "source": [
    "### Importing Dependencies"
   ]
  },
  {
   "cell_type": "code",
   "execution_count": 2,
   "metadata": {},
   "outputs": [],
   "source": [
    "# Import Dependencies:\n",
    "import pandas as pd\n",
    "import os"
   ]
  },
  {
   "cell_type": "code",
   "execution_count": 3,
   "metadata": {},
   "outputs": [],
   "source": [
    "# Creating csv data file path:\n",
    "medication_assisted = os.path.join(\"Resources\", \"mat_annually.csv\")"
   ]
  },
  {
   "cell_type": "markdown",
   "metadata": {},
   "source": [
    "### Store CSV into DataFrame"
   ]
  },
  {
   "cell_type": "code",
   "execution_count": 5,
   "metadata": {},
   "outputs": [
    {
     "data": {
      "text/html": [
       "<div>\n",
       "<style scoped>\n",
       "    .dataframe tbody tr th:only-of-type {\n",
       "        vertical-align: middle;\n",
       "    }\n",
       "\n",
       "    .dataframe tbody tr th {\n",
       "        vertical-align: top;\n",
       "    }\n",
       "\n",
       "    .dataframe thead th {\n",
       "        text-align: right;\n",
       "    }\n",
       "</style>\n",
       "<table border=\"1\" class=\"dataframe\">\n",
       "  <thead>\n",
       "    <tr style=\"text-align: right;\">\n",
       "      <th></th>\n",
       "      <th>County</th>\n",
       "      <th>Year</th>\n",
       "      <th>Medication_Assisted_Treatment</th>\n",
       "      <th>Beneficiaries</th>\n",
       "      <th>Status</th>\n",
       "      <th>Annotation</th>\n",
       "      <th>Annotation_Description</th>\n",
       "    </tr>\n",
       "  </thead>\n",
       "  <tbody>\n",
       "    <tr>\n",
       "      <th>0</th>\n",
       "      <td>Statewide</td>\n",
       "      <td>2010</td>\n",
       "      <td>Buprenorphine</td>\n",
       "      <td>1265.0</td>\n",
       "      <td>F</td>\n",
       "      <td>NaN</td>\n",
       "      <td>NaN</td>\n",
       "    </tr>\n",
       "    <tr>\n",
       "      <th>1</th>\n",
       "      <td>Statewide</td>\n",
       "      <td>2011</td>\n",
       "      <td>Buprenorphine</td>\n",
       "      <td>1680.0</td>\n",
       "      <td>F</td>\n",
       "      <td>NaN</td>\n",
       "      <td>NaN</td>\n",
       "    </tr>\n",
       "    <tr>\n",
       "      <th>2</th>\n",
       "      <td>Statewide</td>\n",
       "      <td>2012</td>\n",
       "      <td>Buprenorphine</td>\n",
       "      <td>2099.0</td>\n",
       "      <td>F</td>\n",
       "      <td>NaN</td>\n",
       "      <td>NaN</td>\n",
       "    </tr>\n",
       "    <tr>\n",
       "      <th>3</th>\n",
       "      <td>Statewide</td>\n",
       "      <td>2013</td>\n",
       "      <td>Buprenorphine</td>\n",
       "      <td>2129.0</td>\n",
       "      <td>F</td>\n",
       "      <td>NaN</td>\n",
       "      <td>NaN</td>\n",
       "    </tr>\n",
       "    <tr>\n",
       "      <th>4</th>\n",
       "      <td>Statewide</td>\n",
       "      <td>2014</td>\n",
       "      <td>Buprenorphine</td>\n",
       "      <td>5000.0</td>\n",
       "      <td>F</td>\n",
       "      <td>NaN</td>\n",
       "      <td>NaN</td>\n",
       "    </tr>\n",
       "  </tbody>\n",
       "</table>\n",
       "</div>"
      ],
      "text/plain": [
       "      County  Year Medication_Assisted_Treatment  Beneficiaries Status  \\\n",
       "0  Statewide  2010                 Buprenorphine         1265.0      F   \n",
       "1  Statewide  2011                 Buprenorphine         1680.0      F   \n",
       "2  Statewide  2012                 Buprenorphine         2099.0      F   \n",
       "3  Statewide  2013                 Buprenorphine         2129.0      F   \n",
       "4  Statewide  2014                 Buprenorphine         5000.0      F   \n",
       "\n",
       "   Annotation Annotation_Description  \n",
       "0         NaN                    NaN  \n",
       "1         NaN                    NaN  \n",
       "2         NaN                    NaN  \n",
       "3         NaN                    NaN  \n",
       "4         NaN                    NaN  "
      ]
     },
     "execution_count": 5,
     "metadata": {},
     "output_type": "execute_result"
    }
   ],
   "source": [
    "# Reading in data file to store into Pandas DataFrame:\n",
    "medication_assisted_treatment = pd.read_csv(\"Resources/mat_annually.csv\")\n",
    "medication_assisted_treatment.head()"
   ]
  },
  {
   "cell_type": "markdown",
   "metadata": {},
   "source": [
    "***\n",
    "## Step 2: Transform\n",
    "***\n",
    "> Transforming the dataset to suit the needs of our project, this will including:\n",
    "> 1. Cleaning Data\n",
    "> 2. Removing NaNs\n",
    "> 3. Selecting needed columns\n",
    "> 4. Re-naming columns"
   ]
  },
  {
   "cell_type": "markdown",
   "metadata": {},
   "source": [
    "### Create new data with select columns"
   ]
  },
  {
   "cell_type": "code",
   "execution_count": 5,
   "metadata": {},
   "outputs": [
    {
     "data": {
      "text/html": [
       "<div>\n",
       "<style scoped>\n",
       "    .dataframe tbody tr th:only-of-type {\n",
       "        vertical-align: middle;\n",
       "    }\n",
       "\n",
       "    .dataframe tbody tr th {\n",
       "        vertical-align: top;\n",
       "    }\n",
       "\n",
       "    .dataframe thead th {\n",
       "        text-align: right;\n",
       "    }\n",
       "</style>\n",
       "<table border=\"1\" class=\"dataframe\">\n",
       "  <thead>\n",
       "    <tr style=\"text-align: right;\">\n",
       "      <th></th>\n",
       "      <th>County</th>\n",
       "      <th>Year</th>\n",
       "      <th>Beneficiaries</th>\n",
       "    </tr>\n",
       "  </thead>\n",
       "  <tbody>\n",
       "    <tr>\n",
       "      <th>0</th>\n",
       "      <td>Statewide</td>\n",
       "      <td>2010</td>\n",
       "      <td>1265.0</td>\n",
       "    </tr>\n",
       "    <tr>\n",
       "      <th>1</th>\n",
       "      <td>Statewide</td>\n",
       "      <td>2011</td>\n",
       "      <td>1680.0</td>\n",
       "    </tr>\n",
       "    <tr>\n",
       "      <th>2</th>\n",
       "      <td>Statewide</td>\n",
       "      <td>2012</td>\n",
       "      <td>2099.0</td>\n",
       "    </tr>\n",
       "    <tr>\n",
       "      <th>3</th>\n",
       "      <td>Statewide</td>\n",
       "      <td>2013</td>\n",
       "      <td>2129.0</td>\n",
       "    </tr>\n",
       "    <tr>\n",
       "      <th>4</th>\n",
       "      <td>Statewide</td>\n",
       "      <td>2014</td>\n",
       "      <td>5000.0</td>\n",
       "    </tr>\n",
       "  </tbody>\n",
       "</table>\n",
       "</div>"
      ],
      "text/plain": [
       "      County  Year  Beneficiaries\n",
       "0  Statewide  2010         1265.0\n",
       "1  Statewide  2011         1680.0\n",
       "2  Statewide  2012         2099.0\n",
       "3  Statewide  2013         2129.0\n",
       "4  Statewide  2014         5000.0"
      ]
     },
     "execution_count": 5,
     "metadata": {},
     "output_type": "execute_result"
    }
   ],
   "source": [
    "# Filtering dataset by selecting columns needed to answer potential query:\n",
    "# Extracting only needed columns:\n",
    "mat_subset = medication_assisted_treatment[[\"County\", \"Year\", \"Beneficiaries\"]]\n",
    "mat_subset.head()"
   ]
  },
  {
   "cell_type": "code",
   "execution_count": 15,
   "metadata": {},
   "outputs": [
    {
     "data": {
      "text/html": [
       "<div>\n",
       "<style scoped>\n",
       "    .dataframe tbody tr th:only-of-type {\n",
       "        vertical-align: middle;\n",
       "    }\n",
       "\n",
       "    .dataframe tbody tr th {\n",
       "        vertical-align: top;\n",
       "    }\n",
       "\n",
       "    .dataframe thead th {\n",
       "        text-align: right;\n",
       "    }\n",
       "</style>\n",
       "<table border=\"1\" class=\"dataframe\">\n",
       "  <thead>\n",
       "    <tr style=\"text-align: right;\">\n",
       "      <th></th>\n",
       "      <th>County</th>\n",
       "      <th>Year</th>\n",
       "      <th>Beneficiaries</th>\n",
       "    </tr>\n",
       "  </thead>\n",
       "  <tbody>\n",
       "    <tr>\n",
       "      <th>0</th>\n",
       "      <td>Statewide</td>\n",
       "      <td>2010</td>\n",
       "      <td>1265.0</td>\n",
       "    </tr>\n",
       "    <tr>\n",
       "      <th>1</th>\n",
       "      <td>Statewide</td>\n",
       "      <td>2011</td>\n",
       "      <td>1680.0</td>\n",
       "    </tr>\n",
       "    <tr>\n",
       "      <th>2</th>\n",
       "      <td>Statewide</td>\n",
       "      <td>2012</td>\n",
       "      <td>2099.0</td>\n",
       "    </tr>\n",
       "    <tr>\n",
       "      <th>3</th>\n",
       "      <td>Statewide</td>\n",
       "      <td>2013</td>\n",
       "      <td>2129.0</td>\n",
       "    </tr>\n",
       "    <tr>\n",
       "      <th>4</th>\n",
       "      <td>Statewide</td>\n",
       "      <td>2014</td>\n",
       "      <td>5000.0</td>\n",
       "    </tr>\n",
       "  </tbody>\n",
       "</table>\n",
       "</div>"
      ],
      "text/plain": [
       "      County  Year  Beneficiaries\n",
       "0  Statewide  2010         1265.0\n",
       "1  Statewide  2011         1680.0\n",
       "2  Statewide  2012         2099.0\n",
       "3  Statewide  2013         2129.0\n",
       "4  Statewide  2014         5000.0"
      ]
     },
     "execution_count": 15,
     "metadata": {},
     "output_type": "execute_result"
    }
   ],
   "source": [
    "# Cleaning dataset and dropping any bad records:\n",
    "assisted_treatment = mat_subset.dropna(how='any')\n",
    "assisted_treatment.head()"
   ]
  },
  {
   "cell_type": "code",
   "execution_count": 16,
   "metadata": {},
   "outputs": [],
   "source": [
    "# Saving needed subset into csv file:\n",
    "assisted_treatment.to_csv('Resources/assisted_treatment.csv')"
   ]
  },
  {
   "cell_type": "code",
   "execution_count": null,
   "metadata": {},
   "outputs": [],
   "source": []
  }
 ],
 "metadata": {
  "kernelspec": {
   "display_name": "Python [conda env:PythonData] *",
   "language": "python",
   "name": "conda-env-PythonData-py"
  },
  "language_info": {
   "codemirror_mode": {
    "name": "ipython",
    "version": 3
   },
   "file_extension": ".py",
   "mimetype": "text/x-python",
   "name": "python",
   "nbconvert_exporter": "python",
   "pygments_lexer": "ipython3",
   "version": "3.6.12"
  }
 },
 "nbformat": 4,
 "nbformat_minor": 4
}
