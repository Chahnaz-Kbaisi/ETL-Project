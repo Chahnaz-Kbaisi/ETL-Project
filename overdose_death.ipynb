{
 "cells": [
  {
   "cell_type": "markdown",
   "metadata": {},
   "source": [
    "***\n",
    "# ETL Project: Extract, Transform, Load\n",
    "***\n",
    "## Step 1: Extract\n",
    "> Data sources are from csv files, after deep exploration of the data that we needed for this project we did start retrieval process by reading in the dataset"
   ]
  },
  {
   "cell_type": "markdown",
   "metadata": {},
   "source": [
    "### Importing Dependencies"
   ]
  },
  {
   "cell_type": "code",
   "execution_count": 1,
   "metadata": {},
   "outputs": [],
   "source": [
    "# Import Dependencies:\n",
    "import pandas as pd\n",
    "import os"
   ]
  },
  {
   "cell_type": "code",
   "execution_count": 3,
   "metadata": {},
   "outputs": [
    {
     "data": {
      "text/plain": [
       "'Resources/Multiple_Cause_death.csv'"
      ]
     },
     "execution_count": 3,
     "metadata": {},
     "output_type": "execute_result"
    }
   ],
   "source": [
    "# Reading in and storing data files:\n",
    "death_cause = os.path.join(\"Resources\", \"Multiple_Cause_death.csv\")"
   ]
  },
  {
   "cell_type": "code",
   "execution_count": 7,
   "metadata": {},
   "outputs": [
    {
     "data": {
      "text/html": [
       "<div>\n",
       "<style scoped>\n",
       "    .dataframe tbody tr th:only-of-type {\n",
       "        vertical-align: middle;\n",
       "    }\n",
       "\n",
       "    .dataframe tbody tr th {\n",
       "        vertical-align: top;\n",
       "    }\n",
       "\n",
       "    .dataframe thead th {\n",
       "        text-align: right;\n",
       "    }\n",
       "</style>\n",
       "<table border=\"1\" class=\"dataframe\">\n",
       "  <thead>\n",
       "    <tr style=\"text-align: right;\">\n",
       "      <th></th>\n",
       "      <th>State</th>\n",
       "      <th>Year</th>\n",
       "      <th>Deaths</th>\n",
       "      <th>Population</th>\n",
       "      <th>Crude Rate</th>\n",
       "      <th>Crude Rate Lower 95% Confidence Interval</th>\n",
       "      <th>Crude Rate Upper 95% Confidence Interval</th>\n",
       "      <th>Prescriptions Dispensed by US Retailers in that year (millions)</th>\n",
       "    </tr>\n",
       "  </thead>\n",
       "  <tbody>\n",
       "    <tr>\n",
       "      <th>0</th>\n",
       "      <td>Alabama</td>\n",
       "      <td>1999</td>\n",
       "      <td>39</td>\n",
       "      <td>4430141</td>\n",
       "      <td>0.9</td>\n",
       "      <td>0.6</td>\n",
       "      <td>1.2</td>\n",
       "      <td>116</td>\n",
       "    </tr>\n",
       "    <tr>\n",
       "      <th>1</th>\n",
       "      <td>Alabama</td>\n",
       "      <td>2000</td>\n",
       "      <td>46</td>\n",
       "      <td>4447100</td>\n",
       "      <td>1</td>\n",
       "      <td>0.8</td>\n",
       "      <td>1.4</td>\n",
       "      <td>126</td>\n",
       "    </tr>\n",
       "    <tr>\n",
       "      <th>2</th>\n",
       "      <td>Alabama</td>\n",
       "      <td>2001</td>\n",
       "      <td>67</td>\n",
       "      <td>4467634</td>\n",
       "      <td>1.5</td>\n",
       "      <td>1.2</td>\n",
       "      <td>1.9</td>\n",
       "      <td>138</td>\n",
       "    </tr>\n",
       "    <tr>\n",
       "      <th>3</th>\n",
       "      <td>Alabama</td>\n",
       "      <td>2002</td>\n",
       "      <td>75</td>\n",
       "      <td>4480089</td>\n",
       "      <td>1.7</td>\n",
       "      <td>1.3</td>\n",
       "      <td>2.1</td>\n",
       "      <td>142</td>\n",
       "    </tr>\n",
       "    <tr>\n",
       "      <th>4</th>\n",
       "      <td>Alabama</td>\n",
       "      <td>2003</td>\n",
       "      <td>54</td>\n",
       "      <td>4503491</td>\n",
       "      <td>1.2</td>\n",
       "      <td>0.9</td>\n",
       "      <td>1.6</td>\n",
       "      <td>149</td>\n",
       "    </tr>\n",
       "  </tbody>\n",
       "</table>\n",
       "</div>"
      ],
      "text/plain": [
       "     State  Year Deaths  Population Crude Rate  \\\n",
       "0  Alabama  1999     39     4430141        0.9   \n",
       "1  Alabama  2000     46     4447100          1   \n",
       "2  Alabama  2001     67     4467634        1.5   \n",
       "3  Alabama  2002     75     4480089        1.7   \n",
       "4  Alabama  2003     54     4503491        1.2   \n",
       "\n",
       "  Crude Rate Lower 95% Confidence Interval  \\\n",
       "0                                      0.6   \n",
       "1                                      0.8   \n",
       "2                                      1.2   \n",
       "3                                      1.3   \n",
       "4                                      0.9   \n",
       "\n",
       "  Crude Rate Upper 95% Confidence Interval  \\\n",
       "0                                      1.2   \n",
       "1                                      1.4   \n",
       "2                                      1.9   \n",
       "3                                      2.1   \n",
       "4                                      1.6   \n",
       "\n",
       "   Prescriptions Dispensed by US Retailers in that year (millions)  \n",
       "0                                                116                \n",
       "1                                                126                \n",
       "2                                                138                \n",
       "3                                                142                \n",
       "4                                                149                "
      ]
     },
     "execution_count": 7,
     "metadata": {},
     "output_type": "execute_result"
    }
   ],
   "source": [
    "# Reading in data file:\n",
    "death_cause_df = pd.read_csv(\"Resources/Multiple_Cause_death.csv\")\n",
    "death_cause_df.head()"
   ]
  },
  {
   "cell_type": "markdown",
   "metadata": {},
   "source": [
    "***\n",
    "## Step 2: Transform\n",
    "***\n",
    "> Transforming the dataset to suit the needs of our project, this will including:\n",
    "> 1. Cleaning Data\n",
    "> 2. Removing NaNs\n",
    "> 3. Selecting needed columns\n",
    "> 4. Re-naming columns"
   ]
  },
  {
   "cell_type": "code",
   "execution_count": null,
   "metadata": {},
   "outputs": [],
   "source": [
    "# Creating new dataset with needed columns\n"
   ]
  }
 ],
 "metadata": {
  "kernelspec": {
   "display_name": "Python [conda env:PythonData] *",
   "language": "python",
   "name": "conda-env-PythonData-py"
  },
  "language_info": {
   "codemirror_mode": {
    "name": "ipython",
    "version": 3
   },
   "file_extension": ".py",
   "mimetype": "text/x-python",
   "name": "python",
   "nbconvert_exporter": "python",
   "pygments_lexer": "ipython3",
   "version": "3.6.12"
  }
 },
 "nbformat": 4,
 "nbformat_minor": 4
}
