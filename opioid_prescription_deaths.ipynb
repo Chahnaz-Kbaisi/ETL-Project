{
 "cells": [
  {
   "cell_type": "markdown",
   "metadata": {},
   "source": [
    "******************************************************************************************************************\n",
    "# ETL Project: Extract, Transform, Load\n",
    "******************************************************************************************************************"
   ]
  },
  {
   "cell_type": "markdown",
   "metadata": {},
   "source": [
    "## Step 1: Extract\n",
    "The data sources are from csv files, after deep exploration of the data we need for this project we will start retrieval process by reading in the dataset. The dataset we are using in this part is to potentially answer the following question:\n",
    "\n",
    "What is the relevant information about dispensers and medical facilities?\n",
    "Data source: https://data.world/health/opioid-overdose-deaths"
   ]
  },
  {
   "cell_type": "code",
   "execution_count": null,
   "metadata": {},
   "outputs": [],
   "source": []
  }
 ],
 "metadata": {
  "kernelspec": {
   "display_name": "Python [conda env:PythonData] *",
   "language": "python",
   "name": "conda-env-PythonData-py"
  },
  "language_info": {
   "codemirror_mode": {
    "name": "ipython",
    "version": 3
   },
   "file_extension": ".py",
   "mimetype": "text/x-python",
   "name": "python",
   "nbconvert_exporter": "python",
   "pygments_lexer": "ipython3",
   "version": "3.6.10"
  }
 },
 "nbformat": 4,
 "nbformat_minor": 4
}
